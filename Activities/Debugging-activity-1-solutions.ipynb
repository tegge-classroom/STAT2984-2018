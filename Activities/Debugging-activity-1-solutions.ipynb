{
 "cells": [
  {
   "cell_type": "code",
   "execution_count": 1,
   "metadata": {},
   "outputs": [
    {
     "name": "stdout",
     "output_type": "stream",
     "text": [
      "16.25\n"
     ]
    }
   ],
   "source": [
    "# Debigging Activity --\n",
    "# Though all of the code below works, \n",
    "# however, the code does not perform as expected\n",
    "# Will go over questions on Thursday April 12\n",
    "\n",
    "# Question 1\n",
    "# compute the mean of data\n",
    "\n",
    "data = [3,56,13,18,2,15,13,10]\n",
    "average = float(sum(data))/len(data)\n",
    "print average"
   ]
  },
  {
   "cell_type": "code",
   "execution_count": 4,
   "metadata": {},
   "outputs": [
    {
     "name": "stdout",
     "output_type": "stream",
     "text": [
      "['East Canada', 'East United States', 'East Spain', 'East Germany', 'East Brazil', 'East China']\n"
     ]
    }
   ],
   "source": [
    "# Question 2\n",
    "# Add 'East' to the start of all country names\n",
    "countries = ['Canada','United States','Spain','Germany','Brazil','China']\n",
    "\n",
    "eastern_countries = []\n",
    "for country in countries:\n",
    "    eastern_countries.append('East ' + country)\n",
    "\n",
    "print eastern_countries"
   ]
  },
  {
   "cell_type": "code",
   "execution_count": 6,
   "metadata": {},
   "outputs": [
    {
     "name": "stdout",
     "output_type": "stream",
     "text": [
      "{'A': [19, 75], 'C': [28, 66, 44, 73, 32, 75], 'B': [61, 56], 'E': [43, 52, 1, 28], 'D': [66, 35, 86, 93, 20], 'G': [47, 44], 'F': [27, 12, 10]}\n"
     ]
    }
   ],
   "source": [
    "# Question 3\n",
    "# Make a dictionary with factors as keys\n",
    "# and a list of values associated with each factor\n",
    "\n",
    "factor_list = ['A','B','A','D','C','E','E','D','C','D',\n",
    "               'C','B','E','D','F','G','E','D','F','C',\n",
    "               'G','C','C','F']\n",
    "values_list = [19,61,75,66,28,43,52,35,66,86,44,56,1,93,27,47,28,20,12,73,44,32,75,10] \n",
    "\n",
    "data_dict = {}\n",
    "for i,f in enumerate(factor_list):\n",
    "    if f not in data_dict:\n",
    "        data_dict[f] = []\n",
    "    data_dict[f].append(values_list[i])\n",
    "\n",
    "print data_dict"
   ]
  },
  {
   "cell_type": "code",
   "execution_count": 9,
   "metadata": {},
   "outputs": [
    {
     "name": "stdout",
     "output_type": "stream",
     "text": [
      "A 47.0\n",
      "C 53.0\n",
      "B 58.5\n",
      "E 31.0\n",
      "D 60.0\n",
      "G 45.5\n",
      "F 16.3333333333\n"
     ]
    }
   ],
   "source": [
    "# Question 4\n",
    "# Print the mean of values for each factor\n",
    "# Note: this can only be completed after questions 1&3 are complete\n",
    "\n",
    "i = 'A'\n",
    "for k in data_dict.keys():\n",
    "    print k, float(sum(data_dict[k]))/len(data_dict[k])"
   ]
  },
  {
   "cell_type": "code",
   "execution_count": 11,
   "metadata": {},
   "outputs": [
    {
     "name": "stdout",
     "output_type": "stream",
     "text": [
      "[1, 10]\n"
     ]
    }
   ],
   "source": [
    "# Question 5\n",
    "# Create a function that returns the smallest 2 elements in a list\n",
    "\n",
    "def min_two(data):\n",
    "    values = sorted(data)[:2]\n",
    "    return values\n",
    "\n",
    "values_list = [19,61,75,66,28,43,52,35,66,86,44,56,1,93,27,47,28,20,12,73,44,32,75,10] \n",
    "print min_two(values_list)"
   ]
  },
  {
   "cell_type": "code",
   "execution_count": 15,
   "metadata": {},
   "outputs": [
    {
     "name": "stdout",
     "output_type": "stream",
     "text": [
      "Minimum: 1\n",
      "Maximum: 93\n",
      "Mean:    45.5416666667\n"
     ]
    }
   ],
   "source": [
    "# Question 6\n",
    "# Create a function that reutrns the min, max, and mean of a list \n",
    "\n",
    "def summarize(data):\n",
    "    minimum = min(data)\n",
    "    maximum = max(data)\n",
    "    mean = float(sum(data))/len(data)\n",
    "    return minimum, maximum, mean\n",
    "\n",
    "values_list = [19,61,75,66,28,43,52,35,66,86,44,56,1,93,27,47,28,20,12,73,44,32,75,10] \n",
    "minimum, maximum, mean = summarize(values_list)\n",
    "\n",
    "print \"Minimum:\", minimum\n",
    "print \"Maximum:\", maximum\n",
    "print \"Mean:   \",mean"
   ]
  },
  {
   "cell_type": "code",
   "execution_count": null,
   "metadata": {
    "collapsed": true
   },
   "outputs": [],
   "source": []
  }
 ],
 "metadata": {
  "kernelspec": {
   "display_name": "Python 2",
   "language": "python",
   "name": "python2"
  },
  "language_info": {
   "codemirror_mode": {
    "name": "ipython",
    "version": 2
   },
   "file_extension": ".py",
   "mimetype": "text/x-python",
   "name": "python",
   "nbconvert_exporter": "python",
   "pygments_lexer": "ipython2",
   "version": "2.7.14"
  }
 },
 "nbformat": 4,
 "nbformat_minor": 2
}
