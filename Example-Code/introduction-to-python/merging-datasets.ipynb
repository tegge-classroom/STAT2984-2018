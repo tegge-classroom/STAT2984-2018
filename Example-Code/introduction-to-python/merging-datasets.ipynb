{
 "cells": [
  {
   "cell_type": "code",
   "execution_count": null,
   "metadata": {
    "collapsed": true
   },
   "outputs": [],
   "source": [
    "\n",
    "# subject, timepoint, measurement1, measurement2, measurement3\n",
    "data1 = [['a',1,2,3,4],\n",
    "        ['b',1,2,3,4],\n",
    "        ['c',1,2,3,4],\n",
    "        ['d',1,2,3,4],\n",
    "        ['e',1,2,3,4],\n",
    "        ['f',1,2,3,4],\n",
    "        ['g',1,2,3,4],\n",
    "        ['a',2,1,3,4],\n",
    "        ['b',2,1,3,4],\n",
    "        ['c',2,1,3,4],\n",
    "        ['d',2,1,3,4],\n",
    "        ['e',2,1,3,4],\n",
    "        ['f',2,1,3,4],\n",
    "        ['g',2,1,3,4]]\n",
    "\n",
    "\n",
    "demographics = {'a':['albert'],\n",
    "                'b':['bob'],\n",
    "                'c':['clive'],\n",
    "                'd':['derek'],\n",
    "                'e':['eduardo'],\n",
    "                'f':['fonsi'],\n",
    "                'g':['grace']}\n",
    "\n"
   ]
  }
 ],
 "metadata": {
  "kernelspec": {
   "display_name": "Python 2",
   "language": "python",
   "name": "python2"
  },
  "language_info": {
   "codemirror_mode": {
    "name": "ipython",
    "version": 2
   },
   "file_extension": ".py",
   "mimetype": "text/x-python",
   "name": "python",
   "nbconvert_exporter": "python",
   "pygments_lexer": "ipython2",
   "version": "2.7.14"
  }
 },
 "nbformat": 4,
 "nbformat_minor": 2
}
